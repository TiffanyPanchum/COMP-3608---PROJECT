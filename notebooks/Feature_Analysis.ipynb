{
 "cells": [
  {
   "cell_type": "code",
   "execution_count": 1,
   "id": "b7a28c04",
   "metadata": {},
   "outputs": [
    {
     "name": "stderr",
     "output_type": "stream",
     "text": [
      "IProgress not found. Please update jupyter and ipywidgets. See https://ipywidgets.readthedocs.io/en/stable/user_install.html\n"
     ]
    }
   ],
   "source": [
    "import pandas as pd\n",
    "import numpy as np\n",
    "import matplotlib.pyplot as plt\n",
    "import seaborn as sns\n",
    "import os\n",
    "import joblib\n",
    "import shap\n",
    "from sklearn.model_selection import train_test_split\n",
    "from sklearn.preprocessing import StandardScaler, OneHotEncoder\n",
    "from sklearn.compose import ColumnTransformer\n",
    "from sklearn.ensemble import RandomForestClassifier\n",
    "from sklearn.linear_model import LogisticRegression\n",
    "import xgboost as xgb\n",
    "from imblearn.over_sampling import SMOTE\n",
    "import warnings\n",
    "warnings.filterwarnings('ignore')"
   ]
  },
  {
   "cell_type": "code",
   "execution_count": 2,
   "id": "0f0c7ed9",
   "metadata": {},
   "outputs": [],
   "source": [
    "# Set up paths\n",
    "BASE_PATH = '/workspace/COMP-3608---PROJECT'\n",
    "DATA_PATH = os.path.join(BASE_PATH, 'data')\n",
    "MODELS_PATH = os.path.join(BASE_PATH, 'models')\n",
    "RESULTS_PATH = os.path.join(BASE_PATH, 'results')\n",
    "FEATURE_ANALYSIS_PATH = os.path.join(RESULTS_PATH, 'feature_analysis')"
   ]
  },
  {
   "cell_type": "code",
   "execution_count": 3,
   "id": "e8b02e0b",
   "metadata": {},
   "outputs": [],
   "source": [
    "# Create feature analysis directory if it doesn't exist\n",
    "if not os.path.exists(FEATURE_ANALYSIS_PATH):\n",
    "    os.makedirs(FEATURE_ANALYSIS_PATH)\n"
   ]
  },
  {
   "cell_type": "code",
   "execution_count": 4,
   "id": "1200cc88",
   "metadata": {},
   "outputs": [
    {
     "name": "stdout",
     "output_type": "stream",
     "text": [
      "Loading datasets...\n"
     ]
    }
   ],
   "source": [
    "# Load datasets\n",
    "print(\"Loading datasets...\")\n",
    "diabetes_df = pd.read_csv(os.path.join(DATA_PATH, 'feature_engineering/diabetes_feature_engineering'))\n",
    "stroke_df = pd.read_csv(os.path.join(DATA_PATH, 'feature_engineering/Stroke_feature_engineering'))\n",
    "heart_df = pd.read_csv(os.path.join(DATA_PATH, 'feature_engineering/heart_feature_engineering'))\n"
   ]
  },
  {
   "cell_type": "code",
   "execution_count": 5,
   "id": "31637756",
   "metadata": {},
   "outputs": [
    {
     "name": "stdout",
     "output_type": "stream",
     "text": [
      "Diabetes dataset shape: (100000, 12)\n",
      "Stroke dataset shape: (5110, 20)\n",
      "Heart Disease dataset shape: (920, 16)\n"
     ]
    }
   ],
   "source": [
    "print(f\"Diabetes dataset shape: {diabetes_df.shape}\")\n",
    "print(f\"Stroke dataset shape: {stroke_df.shape}\")\n",
    "print(f\"Heart Disease dataset shape: {heart_df.shape}\")"
   ]
  }
 ],
 "metadata": {
  "kernelspec": {
   "display_name": "Python 3",
   "language": "python",
   "name": "python3"
  },
  "language_info": {
   "codemirror_mode": {
    "name": "ipython",
    "version": 3
   },
   "file_extension": ".py",
   "mimetype": "text/x-python",
   "name": "python",
   "nbconvert_exporter": "python",
   "pygments_lexer": "ipython3",
   "version": "3.12.9"
  }
 },
 "nbformat": 4,
 "nbformat_minor": 5
}
