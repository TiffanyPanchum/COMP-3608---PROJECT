{
 "cells": [
  {
   "cell_type": "code",
   "execution_count": 1,
   "id": "b7a28c04",
   "metadata": {},
   "outputs": [
    {
     "name": "stderr",
     "output_type": "stream",
     "text": [
      "IProgress not found. Please update jupyter and ipywidgets. See https://ipywidgets.readthedocs.io/en/stable/user_install.html\n"
     ]
    }
   ],
   "source": [
    "import pandas as pd\n",
    "import numpy as np\n",
    "import matplotlib.pyplot as plt\n",
    "import seaborn as sns\n",
    "import os\n",
    "import joblib\n",
    "import shap\n",
    "from sklearn.model_selection import train_test_split\n",
    "from sklearn.preprocessing import StandardScaler, OneHotEncoder\n",
    "from sklearn.compose import ColumnTransformer\n",
    "from sklearn.ensemble import RandomForestClassifier\n",
    "from sklearn.linear_model import LogisticRegression\n",
    "import xgboost as xgb\n",
    "from imblearn.over_sampling import SMOTE\n",
    "import warnings\n",
    "warnings.filterwarnings('ignore')"
   ]
  },
  {
   "cell_type": "code",
   "execution_count": 2,
   "id": "0f0c7ed9",
   "metadata": {},
   "outputs": [],
   "source": [
    "# Set up paths\n",
    "BASE_PATH = '/workspace/COMP-3608---PROJECT'\n",
    "DATA_PATH = os.path.join(BASE_PATH, 'data')\n",
    "MODELS_PATH = os.path.join(BASE_PATH, 'models')\n",
    "RESULTS_PATH = os.path.join(BASE_PATH, 'results')\n",
    "FEATURE_ANALYSIS_PATH = os.path.join(RESULTS_PATH, 'feature_analysis')"
   ]
  },
  {
   "cell_type": "code",
   "execution_count": 3,
   "id": "e8b02e0b",
   "metadata": {},
   "outputs": [],
   "source": [
    "# Create feature analysis directory if it doesn't exist\n",
    "if not os.path.exists(FEATURE_ANALYSIS_PATH):\n",
    "    os.makedirs(FEATURE_ANALYSIS_PATH)\n"
   ]
  },
  {
   "cell_type": "code",
   "execution_count": 4,
   "id": "1200cc88",
   "metadata": {},
   "outputs": [
    {
     "name": "stdout",
     "output_type": "stream",
     "text": [
      "Loading datasets...\n"
     ]
    }
   ],
   "source": [
    "# Load datasets\n",
    "print(\"Loading datasets...\")\n",
    "diabetes_df = pd.read_csv(os.path.join(DATA_PATH, 'feature_engineering/diabetes_feature_engineering'))\n",
    "stroke_df = pd.read_csv(os.path.join(DATA_PATH, 'feature_engineering/Stroke_feature_engineering'))\n",
    "heart_df = pd.read_csv(os.path.join(DATA_PATH, 'feature_engineering/heart_feature_engineering'))\n"
   ]
  },
  {
   "cell_type": "code",
   "execution_count": 5,
   "id": "31637756",
   "metadata": {},
   "outputs": [
    {
     "name": "stdout",
     "output_type": "stream",
     "text": [
      "Diabetes dataset shape: (100000, 12)\n",
      "Stroke dataset shape: (5110, 20)\n",
      "Heart Disease dataset shape: (920, 16)\n"
     ]
    }
   ],
   "source": [
    "print(f\"Diabetes dataset shape: {diabetes_df.shape}\")\n",
    "print(f\"Stroke dataset shape: {stroke_df.shape}\")\n",
    "print(f\"Heart Disease dataset shape: {heart_df.shape}\")"
   ]
  },
  {
   "cell_type": "code",
   "execution_count": null,
   "id": "dcc99876",
   "metadata": {},
   "outputs": [],
   "source": [
    "# Function to prepare data for feature importance analysis\n",
    "def prepare_data(df, target_column, categorical_cols=None, numerical_cols=None):\n",
    "    \"\"\"Prepare data for feature importance analysis with SMOTE\"\"\"\n",
    "    \n",
    "    if categorical_cols is None:\n",
    "        categorical_cols = df.select_dtypes(include=['object', 'category']).columns.tolist()\n",
    "    \n",
    "    if numerical_cols is None:\n",
    "        numerical_cols = df.select_dtypes(include=['int64', 'float64']).columns.tolist()\n",
    "        # Remove ID columns and target from numerical features if present\n",
    "        numerical_cols = [col for col in numerical_cols if col != target_column and 'id' not in col.lower()]\n",
    "    \n",
    "    # Ensure target column is removed from features\n",
    "    categorical_cols = [col for col in categorical_cols if col != target_column]\n",
    "    numerical_cols = [col for col in numerical_cols if col != target_column]\n",
    "    \n",
    "    # Create preprocessing pipeline\n",
    "    numerical_transformer = StandardScaler()\n",
    "    categorical_transformer = OneHotEncoder(handle_unknown='ignore', sparse_output=False)\n",
    "    \n",
    "    preprocessor = ColumnTransformer(\n",
    "        transformers=[\n",
    "            ('num', numerical_transformer, numerical_cols),\n",
    "            ('cat', categorical_transformer, categorical_cols)\n",
    "        ])\n",
    "    \n",
    "    # Split data\n",
    "    X = df.drop(target_column, axis=1)\n",
    "    y = df[target_column]\n",
    "    \n",
    "    X_train, X_test, y_train, y_test = train_test_split(\n",
    "        X, y, test_size=0.2, random_state=42, stratify=y)\n",
    "    \n",
    "    # Apply preprocessing\n",
    "    preprocessor.fit(X_train)\n",
    "    X_train_processed = preprocessor.transform(X_train)\n",
    "    X_test_processed = preprocessor.transform(X_test)\n",
    "    \n",
    "    # Apply SMOTE for balancing the training data\n",
    "    smote = SMOTE(random_state=42)\n",
    "    X_train_resampled, y_train_resampled = smote.fit_resample(X_train_processed, y_train)\n",
    "    \n",
    "    # Get feature names after one-hot encoding\n",
    "    feature_names = []\n",
    "    \n",
    "    # Add numerical feature names\n",
    "    feature_names.extend(numerical_cols)\n",
    "    \n",
    "    # Add categorical feature names\n",
    "    if categorical_cols:\n",
    "        cat_feature_names = preprocessor.named_transformers_['cat'].get_feature_names_out(categorical_cols)\n",
    "        feature_names.extend(cat_feature_names)\n",
    "    \n",
    "    print(f\"Original class distribution: {np.bincount(y_train)}\")\n",
    "    print(f\"After SMOTE: {np.bincount(y_train_resampled)}\")\n",
    "    print(f\"Feature count: {len(feature_names)}\")\n",
    "    \n",
    "    return (X_train, X_test, X_train_processed, X_test_processed, \n",
    "            X_train_resampled, y_train_resampled, \n",
    "            y_train, y_test, feature_names, preprocessor)\n"
   ]
  }
 ],
 "metadata": {
  "kernelspec": {
   "display_name": "Python 3",
   "language": "python",
   "name": "python3"
  },
  "language_info": {
   "codemirror_mode": {
    "name": "ipython",
    "version": 3
   },
   "file_extension": ".py",
   "mimetype": "text/x-python",
   "name": "python",
   "nbconvert_exporter": "python",
   "pygments_lexer": "ipython3",
   "version": "3.12.9"
  }
 },
 "nbformat": 4,
 "nbformat_minor": 5
}
