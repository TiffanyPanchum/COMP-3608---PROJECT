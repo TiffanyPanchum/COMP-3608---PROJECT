{
 "cells": [
  {
   "cell_type": "code",
   "execution_count": null,
   "metadata": {
    "vscode": {
     "languageId": "plaintext"
    }
   },
   "outputs": [],
   "source": [
    "import pandas as pd\n",
    "import numpy as np\n",
    "from sklearn.preprocessing import StandardScaler\n",
    "from imblearn.over_sampling import SMOTE\n",
    "import matplotlib.pyplot as plt\n",
    "import seaborn as sns\n",
    "import os"
   ]
  },
  {
   "cell_type": "code",
   "execution_count": null,
   "metadata": {
    "vscode": {
     "languageId": "plaintext"
    }
   },
   "outputs": [],
   "source": [
    "PROCESSED_PATH = '../data/processed/'\n",
    "FEATURES_PATH = '../data/feature_engineered/'\n",
    "os.makedirs(FEATURES_PATH, exist_ok=True)"
   ]
  },
  {
   "cell_type": "markdown",
   "metadata": {},
   "source": [
    "## DIABETES DATASET ENGINEERING"
   ]
  },
  {
   "cell_type": "code",
   "execution_count": null,
   "metadata": {
    "vscode": {
     "languageId": "plaintext"
    }
   },
   "outputs": [],
   "source": [
    "diabetes['age_group'] = pd.cut(diabetes['age'],\n",
    "                              bins=[0, 30, 45, 60, 100],\n",
    "                              labels=['<30', '30-45', '46-60', '60+'])"
   ]
  },
  {
   "cell_type": "code",
   "execution_count": null,
   "metadata": {},
   "outputs": [],
   "source": [
    "diabetes['bmi_category'] = pd.cut(diabetes['bmi'],\n",
    "                                 bins=[0, 18.5, 25, 30, 100],\n",
    "                                 labels=['Under', 'Normal', 'Over', 'Obese'])"
   ]
  },
  {
   "cell_type": "code",
   "execution_count": null,
   "metadata": {},
   "outputs": [],
   "source": [
    "diabetes['glucose_tolerance'] = pd.cut(diabetes['blood_glucose_level'],\n",
    "                                      bins=[0, 140, 200, 300],\n",
    "                                      labels=['Normal', 'Prediabetes', 'Diabetes'])"
   ]
  },
  {
   "cell_type": "markdown",
   "metadata": {},
   "source": [
    "## STROKE DATASET ENGINEERING"
   ]
  },
  {
   "cell_type": "code",
   "execution_count": null,
   "metadata": {},
   "outputs": [],
   "source": [
    "X_train, X_test, y_train, y_test = train_test_split(X, y, test_size=0.2)\n",
    "smote = SMOTE(sampling_strategy=0.3)\n",
    "X_res, y_res = smote.fit_resample(X_train, y_train)"
   ]
  },
  {
   "cell_type": "code",
   "execution_count": null,
   "metadata": {},
   "outputs": [],
   "source": [
    "stroke_eng['glucose_risk'] = pd.cut(stroke_eng['avg_glucose_level'],\n",
    "                                   bins=[0, 90, 160, 300],\n",
    "                                   labels=['Low', 'Normal', 'High'])"
   ]
  },
  {
   "cell_type": "code",
   "execution_count": null,
   "metadata": {},
   "outputs": [],
   "source": [
    "stroke_eng['bp_risk'] = stroke_eng.apply(lambda x: 1 if (x['hypertension'] == 1) or (x['heart_disease'] == 1) else 0, axis=1)"
   ]
  },
  {
   "cell_type": "markdown",
   "metadata": {},
   "source": [
    "## HEART DISEASE DATASET ENGINEERING"
   ]
  },
  {
   "cell_type": "code",
   "execution_count": null,
   "metadata": {},
   "outputs": [],
   "source": [
    "heart['blood_pressure'] = pd.cut(heart['trestbps'],\n",
    "                                bins=[0, 120, 130, 140, 200],\n",
    "                                labels=['Normal', 'Elevated', 'Stage1', 'Stage2'])"
   ]
  },
  {
   "cell_type": "code",
   "execution_count": null,
   "metadata": {},
   "outputs": [],
   "source": [
    "heart['chol_risk'] = pd.cut(heart['chol'],\n",
    "                           bins=[0, 200, 240, 600],\n",
    "                           labels=['Normal', 'Borderline', 'High'])"
   ]
  },
  {
   "cell_type": "code",
   "execution_count": null,
   "metadata": {},
   "outputs": [],
   "source": [
    "scaler = StandardScaler()\n",
    "heart[num_cols] = scaler.fit_transform(heart[num_cols])"
   ]
  },
  {
   "cell_type": "markdown",
   "metadata": {},
   "source": [
    "## CROSS-DATASET ANALYSIS"
   ]
  },
  {
   "cell_type": "code",
   "execution_count": null,
   "metadata": {},
   "outputs": [],
   "source": [
    "risk_factors = pd.DataFrame({\n",
    "    'Diabetes': diabetes.corr()['diabetes'].abs().sort_values(ascending=False)[1:6].index.tolist(),\n",
    "    'Stroke': stroke_eng.corr()['stroke'].abs().sort_values(ascending=False)[1:6].index.tolist(),\n",
    "    'Heart': heart.corr()['target'].abs().sort_values(ascending=False)[1:6].index.tolist()\n",
    "})"
   ]
  }
 ],
 "metadata": {
  "language_info": {
   "name": "python"
  }
 },
 "nbformat": 4,
 "nbformat_minor": 2
}
