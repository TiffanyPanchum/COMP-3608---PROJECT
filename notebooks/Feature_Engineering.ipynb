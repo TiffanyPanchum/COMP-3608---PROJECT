{
 "cells": [
  {
   "cell_type": "code",
   "execution_count": 83,
   "metadata": {},
   "outputs": [],
   "source": [
    "import pandas as pd\n",
    "import numpy as np\n",
    "from sklearn.preprocessing import StandardScaler\n",
    "from imblearn.over_sampling import SMOTE\n",
    "import matplotlib.pyplot as plt\n",
    "from sklearn.model_selection import train_test_split\n",
    "import seaborn as sns\n",
    "import os"
   ]
  },
  {
   "cell_type": "markdown",
   "metadata": {},
   "source": [
    "## DIABETES DATASET ENGINEERING"
   ]
  },
  {
   "cell_type": "code",
   "execution_count": 84,
   "metadata": {},
   "outputs": [],
   "source": [
    "# Load the diabetes data \n",
    "diabetes = pd.read_csv('/workspace/COMP-3608---PROJECT/data/processed/processed_diabetes.csv')"
   ]
  },
  {
   "cell_type": "code",
   "execution_count": 85,
   "metadata": {},
   "outputs": [],
   "source": [
    "diabetes['age_group'] = pd.cut(diabetes['age'],\n",
    "                              bins=[0, 30, 45, 60, 100],\n",
    "                              labels=['<30', '30-45', '46-60', '60+'])"
   ]
  },
  {
   "cell_type": "code",
   "execution_count": 86,
   "metadata": {},
   "outputs": [],
   "source": [
    "diabetes['bmi_category'] = pd.cut(diabetes['bmi'],\n",
    "                                 bins=[0, 18.5, 25, 30, 100],\n",
    "                                 labels=['Under', 'Normal', 'Over', 'Obese'])"
   ]
  },
  {
   "cell_type": "code",
   "execution_count": 87,
   "metadata": {},
   "outputs": [],
   "source": [
    "diabetes['glucose_tolerance'] = pd.cut(diabetes['blood_glucose_level'],\n",
    "                                      bins=[0, 140, 200, 300],\n",
    "                                      labels=['Normal', 'Prediabetes', 'Diabetes'])"
   ]
  },
  {
   "cell_type": "markdown",
   "metadata": {},
   "source": [
    "## STROKE DATASET ENGINEERING"
   ]
  },
  {
   "cell_type": "code",
   "execution_count": 88,
   "metadata": {},
   "outputs": [],
   "source": [
    "# Load the Stroke data \n",
    "Stroke = pd.read_csv('/workspace/COMP-3608---PROJECT/data/processed/processed_stroke.csv')"
   ]
  },
  {
   "cell_type": "code",
   "execution_count": 89,
   "metadata": {},
   "outputs": [],
   "source": [
    "# One-hot encode categorical variables\n",
    "Stroke = pd.get_dummies(Stroke, columns=['gender', 'ever_married', 'work_type', 'Residence_type', 'smoking_status'], drop_first=True)"
   ]
  },
  {
   "cell_type": "code",
   "execution_count": 90,
   "metadata": {},
   "outputs": [],
   "source": [
    "# Define the feature set (X) including all relevant features\n",
    "X = Stroke[['age', 'hypertension', 'heart_disease', 'avg_glucose_level', 'bmi', \n",
    "        'gender_male', 'gender_other', 'ever_married_yes', \n",
    "        'work_type_govt_job', 'work_type_never_worked', 'work_type_private', \n",
    "        'work_type_self-employed', 'Residence_type_urban', \n",
    "        'smoking_status_former', 'smoking_status_never', 'smoking_status_unknown']]\n",
    "\n",
    "y = Stroke['stroke']  # Target column"
   ]
  },
  {
   "cell_type": "code",
   "execution_count": 91,
   "metadata": {},
   "outputs": [],
   "source": [
    "X_train, X_test, y_train, y_test = train_test_split(X, y, test_size=0.2, random_state=42)\n",
    "smote = SMOTE(sampling_strategy=0.3)\n",
    "X_res, y_res = smote.fit_resample(X_train, y_train)"
   ]
  },
  {
   "cell_type": "code",
   "execution_count": 92,
   "metadata": {},
   "outputs": [],
   "source": [
    "Stroke['glucose_risk'] = pd.cut(Stroke['avg_glucose_level'],\n",
    "                                   bins=[0, 90, 160, 300],\n",
    "                                   labels=['Low', 'Normal', 'High'])"
   ]
  },
  {
   "cell_type": "code",
   "execution_count": 93,
   "metadata": {},
   "outputs": [],
   "source": [
    "Stroke['bp_risk'] = Stroke.apply(lambda x: 1 if (x['hypertension'] == 1) or (x['heart_disease'] == 1) else 0, axis=1)"
   ]
  },
  {
   "cell_type": "markdown",
   "metadata": {},
   "source": [
    "## HEART DISEASE DATASET ENGINEERING"
   ]
  },
  {
   "cell_type": "code",
   "execution_count": 94,
   "metadata": {},
   "outputs": [],
   "source": [
    "# Load the Heart Disease data \n",
    "heart = pd.read_csv('/workspace/COMP-3608---PROJECT/data/processed/processed_heart_disease.csv')"
   ]
  },
  {
   "cell_type": "code",
   "execution_count": 95,
   "metadata": {},
   "outputs": [],
   "source": [
    "heart['blood_pressure'] = pd.cut(heart['trestbps'],\n",
    "                                bins=[0, 120, 130, 140, 200],\n",
    "                                labels=['Normal', 'Elevated', 'Stage1', 'Stage2'])"
   ]
  },
  {
   "cell_type": "code",
   "execution_count": 96,
   "metadata": {},
   "outputs": [],
   "source": [
    "heart['chol_risk'] = pd.cut(heart['chol'],\n",
    "                           bins=[0, 200, 240, 600],\n",
    "                           labels=['Normal', 'Borderline', 'High'])"
   ]
  },
  {
   "cell_type": "code",
   "execution_count": 97,
   "metadata": {},
   "outputs": [],
   "source": [
    "# Identify the numerical columns (you can manually specify or use df.select_dtypes)\n",
    "num_cols = heart.select_dtypes(include=['float64', 'int64']).columns\n",
    "\n",
    "scaler = StandardScaler()\n",
    "heart[num_cols] = scaler.fit_transform(heart[num_cols])"
   ]
  },
  {
   "cell_type": "code",
   "execution_count": 98,
   "metadata": {},
   "outputs": [
    {
     "name": "stdout",
     "output_type": "stream",
     "text": [
      "Index(['id', 'age', 'trestbps', 'chol', 'fbs', 'thalch', 'exang', 'oldpeak',\n",
      "       'num', 'sex_Male', 'dataset_Hungary', 'dataset_Switzerland',\n",
      "       'dataset_VA Long Beach', 'cp_atypical angina', 'cp_non anginal',\n",
      "       'cp_typical angina', 'restecg_normal', 'restecg_st-t abnormality',\n",
      "       'age_group_40-49', 'age_group_50-59', 'age_group_60-69',\n",
      "       'age_group_70+', 'age_group_<30', 'blood_pressure_Elevated',\n",
      "       'blood_pressure_Stage1', 'blood_pressure_Stage2',\n",
      "       'chol_risk_Borderline', 'chol_risk_High'],\n",
      "      dtype='object')\n"
     ]
    }
   ],
   "source": [
    "# Check the columns after encoding\n",
    "print(heart_encoded.columns)\n"
   ]
  },
  {
   "cell_type": "markdown",
   "metadata": {},
   "source": [
    "## CROSS-DATASET ANALYSIS"
   ]
  },
  {
   "cell_type": "code",
   "execution_count": 99,
   "metadata": {},
   "outputs": [
    {
     "name": "stdout",
     "output_type": "stream",
     "text": [
      "                     Diabetes             Stroke               Heart\n",
      "0  glucose_tolerance_Diabetes                age             oldpeak\n",
      "1         blood_glucose_level      age_group_60+     dataset_Hungary\n",
      "2                 hba1c_level            bp_risk               exang\n",
      "3                         age  glucose_risk_High              thalch\n",
      "4               age_group_60+      heart_disease  cp_atypical angina\n"
     ]
    }
   ],
   "source": [
    "# Calculate correlation on the encoded data\n",
    "risk_factors = pd.DataFrame({\n",
    "    'Diabetes': diabetes_encoded.corr()['diabetes'].abs().sort_values(ascending=False)[1:6].index.tolist(),\n",
    "    'Stroke': stroke_encoded.corr()['stroke'].abs().sort_values(ascending=False)[1:6].index.tolist(),\n",
    "    'Heart': heart_encoded.corr()['num'].abs().sort_values(ascending=False)[1:6].index.tolist()\n",
    "})\n",
    "\n",
    "print(risk_factors)\n"
   ]
  },
  {
   "cell_type": "code",
   "execution_count": 100,
   "metadata": {},
   "outputs": [
    {
     "name": "stdout",
     "output_type": "stream",
     "text": [
      "Datasets saved successfully!\n"
     ]
    }
   ],
   "source": [
    "# Save the newly constructed feature datasets as CSV files\n",
    "\n",
    "# Saving the diabetes dataset\n",
    "diabetes.to_csv('/workspace/COMP-3608---PROJECT/data/feature_engineering/diabetes_feature_engineering', index=False)\n",
    "\n",
    "# Saving the stroke dataset\n",
    "Stroke.to_csv('/workspace/COMP-3608---PROJECT/data/feature_engineering/Stroke_feature_engineering', index=False)\n",
    "\n",
    "# Saving the heart dataset\n",
    "heart.to_csv('/workspace/COMP-3608---PROJECT/data/feature_engineering/heart_feature_engineering', index=False)\n",
    "\n",
    "# Output message to confirm saving\n",
    "print(\"Datasets saved successfully!\")\n"
   ]
  }
 ],
 "metadata": {
  "kernelspec": {
   "display_name": "Python 3",
   "language": "python",
   "name": "python3"
  },
  "language_info": {
   "codemirror_mode": {
    "name": "ipython",
    "version": 3
   },
   "file_extension": ".py",
   "mimetype": "text/x-python",
   "name": "python",
   "nbconvert_exporter": "python",
   "pygments_lexer": "ipython3",
   "version": "3.12.9"
  }
 },
 "nbformat": 4,
 "nbformat_minor": 2
}
