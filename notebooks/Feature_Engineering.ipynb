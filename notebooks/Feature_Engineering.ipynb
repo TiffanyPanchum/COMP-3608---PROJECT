{
 "cells": [
  {
   "cell_type": "code",
   "execution_count": null,
   "metadata": {
    "vscode": {
     "languageId": "plaintext"
    }
   },
   "outputs": [],
   "source": [
    "import pandas as pd\n",
    "import numpy as np\n",
    "from sklearn.preprocessing import StandardScaler\n",
    "from imblearn.over_sampling import SMOTE\n",
    "import matplotlib.pyplot as plt\n",
    "import seaborn as sns\n",
    "import os"
   ]
  },
  {
   "cell_type": "code",
   "execution_count": null,
   "metadata": {
    "vscode": {
     "languageId": "plaintext"
    }
   },
   "outputs": [],
   "source": [
    "PROCESSED_PATH = '../data/processed/'\n",
    "FEATURES_PATH = '../data/feature_engineered/'\n",
    "os.makedirs(FEATURES_PATH, exist_ok=True)"
   ]
  },
  {
   "cell_type": "code",
   "execution_count": null,
   "metadata": {
    "vscode": {
     "languageId": "plaintext"
    }
   },
   "outputs": [],
   "source": [
    "diabetes['age_group'] = pd.cut(diabetes['age'],\n",
    "                              bins=[0, 30, 45, 60, 100],\n",
    "                              labels=['<30', '30-45', '46-60', '60+'])"
   ]
  },
  {
   "cell_type": "code",
   "execution_count": null,
   "metadata": {},
   "outputs": [],
   "source": [
    "diabetes['bmi_category'] = pd.cut(diabetes['bmi'],\n",
    "                                 bins=[0, 18.5, 25, 30, 100],\n",
    "                                 labels=['Under', 'Normal', 'Over', 'Obese'])"
   ]
  }
 ],
 "metadata": {
  "language_info": {
   "name": "python"
  }
 },
 "nbformat": 4,
 "nbformat_minor": 2
}
