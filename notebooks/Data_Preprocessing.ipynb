{
 "cells": [
  {
   "cell_type": "code",
   "execution_count": 2,
   "metadata": {},
   "outputs": [],
   "source": [
    "import pandas as pd\n",
    "import numpy as np\n",
    "import os\n",
    "from sklearn.preprocessing import StandardScaler, MinMaxScaler"
   ]
  },
  {
   "cell_type": "code",
   "execution_count": 3,
   "metadata": {},
   "outputs": [],
   "source": [
    "# Set up paths\n",
    "RAW_DATA_PATH = 'data/raw'\n",
    "PROCESSED_DATA_PATH = 'data/processed'\n",
    "os.makedirs(PROCESSED_DATA_PATH, exist_ok=True)"
   ]
  },
  {
   "cell_type": "code",
   "execution_count": 4,
   "metadata": {},
   "outputs": [],
   "source": [
    "def load_dataset(filename):\n",
    "    \"\"\"Load dataset from raw folder\"\"\"\n",
    "    filepath = os.path.join(RAW_DATA_PATH, filename)\n",
    "    if filename.endswith('.csv'):\n",
    "        return pd.read_csv(filepath)\n",
    "    elif filename.endswith('.xlsx'):\n",
    "        return pd.read_csv(filepath)\n",
    "    else:\n",
    "        raise ValueError(\"Unsupported file format\")"
   ]
  },
  {
   "cell_type": "code",
   "execution_count": null,
   "metadata": {},
   "outputs": [],
   "source": [
    "def save_processed_data(df, filename):\n",
    "    \"\"\"Save cleaned dataset to processed folder\"\"\"\n",
    "    filepath = os.path.join(PROCESSED_DATA_PATH, filename)\n",
    "    df.to_csv(filepath, index=False)\n"
   ]
  },
  {
   "cell_type": "code",
   "execution_count": null,
   "metadata": {},
   "outputs": [],
   "source": [
    "def clean_diabetes_data(df):\n",
    "    \"\"\"Custom cleaning for diabetes dataset based on EDA findings\"\"\"\n",
    "    # Convert age from float to int (ages should be whole numbers)\n",
    "    df['age'] = df['age'].astype(int)\n",
    "    \n",
    "    # Clean smoking_history categories\n",
    "    df['smoking_history'] = df['smoking_history'].replace({\n",
    "        'No Info': 'Unknown',\n",
    "        'never': 'Never',\n",
    "        'current': 'Current',\n",
    "        'former': 'Former',\n",
    "        'not current': 'Not current',\n",
    "        'ever': 'Ever'\n",
    "    })\n",
    "    \n",
    "    # Handle potential outliers in BMI (clip extreme values)\n",
    "    df['bmi'] = df['bmi'].clip(lower=15, upper=50)\n",
    "    \n",
    "    # Create age groups feature\n",
    "    bins = [0, 18, 30, 45, 60, 80]\n",
    "    labels = ['0-18', '19-30', '31-45', '46-60', '60+']\n",
    "    df['age_group'] = pd.cut(df['age'], bins=bins, labels=labels)\n",
    "    \n",
    "    # Standardize column names\n",
    "    df.columns = [col.lower() for col in df.columns]\n",
    "    \n",
    "    return df"
   ]
  }
 ],
 "metadata": {
  "kernelspec": {
   "display_name": "Python 3",
   "language": "python",
   "name": "python3"
  },
  "language_info": {
   "codemirror_mode": {
    "name": "ipython",
    "version": 3
   },
   "file_extension": ".py",
   "mimetype": "text/x-python",
   "name": "python",
   "nbconvert_exporter": "python",
   "pygments_lexer": "ipython3",
   "version": "3.12.9"
  }
 },
 "nbformat": 4,
 "nbformat_minor": 2
}
