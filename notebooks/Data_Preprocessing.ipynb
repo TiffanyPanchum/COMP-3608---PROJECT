{
 "cells": [
  {
   "cell_type": "code",
   "execution_count": 126,
   "metadata": {},
   "outputs": [],
   "source": [
    "import pandas as pd\n",
    "import numpy as np\n",
    "import os\n",
    "from sklearn.preprocessing import StandardScaler, MinMaxScaler"
   ]
  },
  {
   "cell_type": "code",
   "execution_count": 127,
   "metadata": {},
   "outputs": [],
   "source": [
    "def save_processed_data(df, filename):\n",
    "    \"\"\"Save cleaned dataset to processed folder\"\"\"\n",
    "    # Ensure the processed directory exists\n",
    "    processed_dir = '/workspace/COMP-3608---PROJECT/data/processed'\n",
    "    if not os.path.exists(processed_dir):\n",
    "        os.makedirs(processed_dir)\n",
    "\n",
    "    # Save the DataFrame to a CSV file in the specified directory\n",
    "    filepath = os.path.join(processed_dir, filename)\n",
    "    df.to_csv(filepath, index=False)\n",
    "    print(f\"File saved to: {filepath}\")\n"
   ]
  },
  {
   "cell_type": "code",
   "execution_count": 128,
   "metadata": {},
   "outputs": [],
   "source": [
    "def clean_diabetes_data(df):\n",
    "    \"\"\"Custom cleaning for diabetes dataset based on EDA findings\"\"\"\n",
    "    # Convert age from float to int (ages should be whole numbers)\n",
    "    df['age'] = df['age'].astype(int)\n",
    "    \n",
    "    # Clean smoking_history categories\n",
    "    df['smoking_history'] = df['smoking_history'].replace({\n",
    "        'No Info': 'Unknown',\n",
    "        'never': 'Never',\n",
    "        'current': 'Current',\n",
    "        'former': 'Former',\n",
    "        'not current': 'Not current',\n",
    "        'ever': 'Ever'\n",
    "    })\n",
    "    \n",
    "    # Handle potential outliers in BMI (clip extreme values)\n",
    "    df['bmi'] = df['bmi'].clip(lower=15, upper=50)\n",
    "    \n",
    "    # Create age groups feature\n",
    "    bins = [0, 18, 30, 45, 60, 80]\n",
    "    labels = ['0-18', '19-30', '31-45', '46-60', '60+']\n",
    "    df['age_group'] = pd.cut(df['age'], bins=bins, labels=labels)\n",
    "    \n",
    "    # Standardize column names\n",
    "    df.columns = [col.lower() for col in df.columns]\n",
    "    \n",
    "    return df"
   ]
  },
  {
   "cell_type": "code",
   "execution_count": 129,
   "metadata": {},
   "outputs": [],
   "source": [
    "def clean_stroke_data(df):\n",
    "    \"\"\"Custom cleaning for stroke dataset based on EDA findings\"\"\"\n",
    "    \n",
    "    # Drop ID column as it's not useful for modeling\n",
    "    df = df.drop('id', axis=1)\n",
    "    \n",
    "    # Handle missing BMI values (201 missing)\n",
    "    # Impute with median by age group\n",
    "    df['age_group'] = pd.cut(df['age'], \n",
    "                             bins=[0, 18, 30, 45, 60, 100],\n",
    "                             labels=['0-18', '19-30', '31-45', '46-60', '60+'])\n",
    "    \n",
    "    # Impute missing BMI values by grouping with median BMI per age group\n",
    "    # Use `transform` instead of `apply` to fill missing BMI more efficiently\n",
    "    df['bmi'] = df.groupby('age_group')['bmi'].transform(lambda x: x.fillna(x.median()))\n",
    "    \n",
    "    # Clean smoking_status categories\n",
    "    df['smoking_status'] = df['smoking_status'].replace({\n",
    "        'formerly smoked': 'Former',\n",
    "        'never smoked': 'Never',\n",
    "        'smokes': 'Current',\n",
    "        'Unknown': 'Unknown'\n",
    "    })\n",
    "    \n",
    "    # Convert categorical variables to lowercase\n",
    "    categorical_cols = ['gender', 'ever_married', 'work_type', \n",
    "                        'Residence_type', 'smoking_status']\n",
    "    for col in categorical_cols:\n",
    "        df[col] = df[col].str.lower()\n",
    "    \n",
    "    # Ensure all columns are correctly typed after transformations\n",
    "    df['age_group'] = df['age_group'].astype('category')  # Convert 'age_group' to categorical\n",
    "    df['smoking_status'] = df['smoking_status'].astype('category')  # Convert 'smoking_status' to categorical\n",
    "    \n",
    "    return df\n"
   ]
  },
  {
   "cell_type": "code",
   "execution_count": 130,
   "metadata": {},
   "outputs": [],
   "source": [
    "def clean_heart_data(df):\n",
    "    \"\"\"Custom cleaning for heart disease dataset based on EDA findings\"\"\"\n",
    "    # Drop columns with excessive missing values\n",
    "    df = df.drop(['slope', 'ca', 'thal'], axis=1)\n",
    "    \n",
    "    # Handle missing values in other columns\n",
    "    # For numerical columns, impute with median\n",
    "    num_cols = ['trestbps', 'chol', 'thalch', 'oldpeak']\n",
    "    for col in num_cols:\n",
    "        df[col] = df[col].fillna(df[col].median())\n",
    "    \n",
    "    # For categorical columns, impute with mode\n",
    "    cat_cols = ['fbs', 'restecg', 'exang']\n",
    "    for col in cat_cols:\n",
    "        df[col] = df[col].fillna(df[col].mode()[0])\n",
    "    \n",
    "    # Clean categorical variables\n",
    "    df['cp'] = df['cp'].str.replace('-', ' ').str.lower()\n",
    "    df['restecg'] = df['restecg'].str.lower()\n",
    "    df['exang'] = df['exang'].astype(str).str.lower()\n",
    "    \n",
    "    # Handle biological impossibilities (0 values for cholesterol and blood pressure)\n",
    "    df['chol'] = df['chol'].replace(0, df['chol'].median())\n",
    "    df['trestbps'] = df['trestbps'].replace(0, df['trestbps'].median())\n",
    "    \n",
    "    # Create age groups\n",
    "    bins = [0, 30, 40, 50, 60, 70, 100]\n",
    "    labels = ['<30', '30-39', '40-49', '50-59', '60-69', '70+']\n",
    "    df['age_group'] = pd.cut(df['age'], bins=bins, labels=labels)\n",
    "    \n",
    "    return df"
   ]
  },
  {
   "cell_type": "code",
   "execution_count": 131,
   "metadata": {},
   "outputs": [
    {
     "name": "stdout",
     "output_type": "stream",
     "text": [
      "File saved to: /workspace/COMP-3608---PROJECT/data/processed/processed_diabetes.csv\n"
     ]
    }
   ],
   "source": [
    "# Process Diabetes Dataset\n",
    "diabetes_df = pd.read_csv('/workspace/COMP-3608---PROJECT/data/raw/diabetes_prediction_dataset.csv')\n",
    "diabetes_clean = clean_diabetes_data(diabetes_df)\n",
    "save_processed_data(diabetes_clean, 'processed_diabetes.csv')\n"
   ]
  },
  {
   "cell_type": "code",
   "execution_count": 132,
   "metadata": {},
   "outputs": [
    {
     "name": "stdout",
     "output_type": "stream",
     "text": [
      "File saved to: /workspace/COMP-3608---PROJECT/data/processed/processed_heart_disease.csv\n"
     ]
    },
    {
     "name": "stderr",
     "output_type": "stream",
     "text": [
      "/tmp/ipykernel_5268/1724511602.py:15: FutureWarning: Downcasting object dtype arrays on .fillna, .ffill, .bfill is deprecated and will change in a future version. Call result.infer_objects(copy=False) instead. To opt-in to the future behavior, set `pd.set_option('future.no_silent_downcasting', True)`\n",
      "  df[col] = df[col].fillna(df[col].mode()[0])\n"
     ]
    }
   ],
   "source": [
    "# Process Heart Disease Dataset\n",
    "heart_df = pd.read_csv('/workspace/COMP-3608---PROJECT/data/raw/heart_disease_uci.csv')\n",
    "heart_clean = clean_heart_data(heart_df)\n",
    "save_processed_data(heart_clean, 'processed_heart_disease.csv')"
   ]
  },
  {
   "cell_type": "code",
   "execution_count": 133,
   "metadata": {},
   "outputs": [
    {
     "name": "stdout",
     "output_type": "stream",
     "text": [
      "File saved to: /workspace/COMP-3608---PROJECT/data/processed/processed_stroke.csv\n"
     ]
    },
    {
     "name": "stderr",
     "output_type": "stream",
     "text": [
      "/tmp/ipykernel_5268/3768022731.py:15: FutureWarning: The default of observed=False is deprecated and will be changed to True in a future version of pandas. Pass observed=False to retain current behavior or observed=True to adopt the future default and silence this warning.\n",
      "  df['bmi'] = df.groupby('age_group')['bmi'].transform(lambda x: x.fillna(x.median()))\n"
     ]
    }
   ],
   "source": [
    "# Process Stroke Dataset\n",
    "stroke_df = load_dataset('/workspace/COMP-3608---PROJECT/data/raw/healthcare-dataset-stroke-data.csv')\n",
    "stroke_clean = clean_stroke_data(stroke_df)\n",
    "save_processed_data(stroke_clean, 'processed_stroke.csv')"
   ]
  }
 ],
 "metadata": {
  "kernelspec": {
   "display_name": "Python 3",
   "language": "python",
   "name": "python3"
  },
  "language_info": {
   "codemirror_mode": {
    "name": "ipython",
    "version": 3
   },
   "file_extension": ".py",
   "mimetype": "text/x-python",
   "name": "python",
   "nbconvert_exporter": "python",
   "pygments_lexer": "ipython3",
   "version": "3.12.9"
  }
 },
 "nbformat": 4,
 "nbformat_minor": 2
}
