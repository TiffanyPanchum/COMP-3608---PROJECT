{
 "cells": [
  {
   "cell_type": "code",
   "execution_count": null,
   "id": "697b8e17",
   "metadata": {
    "vscode": {
     "languageId": "plaintext"
    }
   },
   "outputs": [],
   "source": [
    "import pandas as pd\n",
    "import numpy as np\n",
    "import matplotlib.pyplot as plt\n",
    "import seaborn as sns\n",
    "import os\n"
   ]
  },
  {
   "cell_type": "code",
   "execution_count": null,
   "id": "bdbf1b22",
   "metadata": {
    "vscode": {
     "languageId": "plaintext"
    }
   },
   "outputs": [],
   "source": [
    "# Set up paths\n",
    "PROCESSED_DATA_PATH = '/workspace/COMP-3608---PROJECT/data/processed'\n",
    "VIS_PATH = '/workspace/COMP-3608---PROJECT/notebooks/reports'\n",
    "os.makedirs(VIS_PATH, exist_ok=True)\n",
    "\n"
   ]
  }
 ],
 "metadata": {
  "language_info": {
   "name": "python"
  }
 },
 "nbformat": 4,
 "nbformat_minor": 5
}
