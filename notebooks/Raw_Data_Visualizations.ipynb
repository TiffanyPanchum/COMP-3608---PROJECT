{
 "cells": [
  {
   "cell_type": "code",
   "execution_count": null,
   "id": "697b8e17",
   "metadata": {
    "vscode": {
     "languageId": "plaintext"
    }
   },
   "outputs": [],
   "source": [
    "import pandas as pd\n",
    "import numpy as np\n",
    "import matplotlib.pyplot as plt\n",
    "import seaborn as sns\n",
    "import os\n"
   ]
  },
  {
   "cell_type": "code",
   "execution_count": null,
   "id": "bdbf1b22",
   "metadata": {
    "vscode": {
     "languageId": "plaintext"
    }
   },
   "outputs": [],
   "source": [
    "# Set up paths\n",
    "PROCESSED_DATA_PATH = '/workspace/COMP-3608---PROJECT/data/processed'\n",
    "VIS_PATH = '/workspace/COMP-3608---PROJECT/notebooks/reports'\n",
    "os.makedirs(VIS_PATH, exist_ok=True)\n",
    "\n"
   ]
  },
  {
   "cell_type": "code",
   "execution_count": null,
   "id": "84986da7",
   "metadata": {
    "vscode": {
     "languageId": "plaintext"
    }
   },
   "outputs": [],
   "source": [
    "# Set plotting style\n",
    "plt.style.use('ggplot')\n",
    "sns.set_palette('husl')\n"
   ]
  },
  {
   "cell_type": "code",
   "execution_count": null,
   "id": "cd8c7f35",
   "metadata": {
    "vscode": {
     "languageId": "plaintext"
    }
   },
   "outputs": [],
   "source": [
    "def load_processed_data(filename):\n",
    "    \"\"\"Load processed dataset\"\"\"\n",
    "    filepath = os.path.join(PROCESSED_DATA_PATH, filename)\n",
    "    return pd.read_csv(filepath)\n",
    "\n"
   ]
  },
  {
   "cell_type": "code",
   "execution_count": null,
   "id": "b95600f2",
   "metadata": {
    "vscode": {
     "languageId": "plaintext"
    }
   },
   "outputs": [],
   "source": [
    "def plot_target_distribution(df, name):\n",
    "    \"\"\"Plot target variable distribution\"\"\"\n",
    "    target_col = None\n",
    "    \n",
    "    # Find the target column based on dataset\n",
    "    if 'diabetes' in df.columns:\n",
    "        target_col = 'diabetes'\n",
    "    elif 'stroke' in df.columns:\n",
    "        target_col = 'stroke'\n",
    "    elif 'num' in df.columns:\n",
    "        target_col = 'num'\n",
    "    \n",
    "    if target_col:\n",
    "        plt.figure(figsize=(8, 6))\n",
    "        sns.countplot(x=target_col, data=df)\n",
    "        plt.title(f'Target Variable Distribution - {name}')\n",
    "        plt.savefig(os.path.join(VIS_PATH, f'{name.lower().replace(\" \", \"_\")}_target_dist.png'))\n",
    "        plt.show()\n",
    "        plt.close()\n"
   ]
  }
 ],
 "metadata": {
  "language_info": {
   "name": "python"
  }
 },
 "nbformat": 4,
 "nbformat_minor": 5
}
